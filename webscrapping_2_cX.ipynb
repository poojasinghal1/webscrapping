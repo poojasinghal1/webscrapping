{
 "cells": [
  {
   "cell_type": "code",
   "execution_count": 1,
   "id": "6578be01-d831-410d-afbf-beec736258cf",
   "metadata": {},
   "outputs": [],
   "source": [
    "import pandas as pd\n",
    "from bs4 import BeautifulSoup\n",
    "import requests\n",
    "import numpy as np\n"
   ]
  },
  {
   "cell_type": "code",
   "execution_count": 2,
   "id": "4a1353f8-8476-4c1a-a72d-f4d183a1dbeb",
   "metadata": {},
   "outputs": [],
   "source": [
    "headers={'User-Agent':'Mozilla/5.0 (Windows NT 6.3; Win 64 ; x64) Apple WeKit /537.36(KHTML , like Gecko) Chrome/80.0.3987.162 Safari/537.36'}\n",
    "webpage= requests.get('https://www.ambitionbox.com/list-of-companies?page=1',headers=headers).text"
   ]
  },
  {
   "cell_type": "code",
   "execution_count": 3,
   "id": "d5acc210-0bd9-4843-b4f9-f83f1039c573",
   "metadata": {},
   "outputs": [],
   "source": [
    "soup=BeautifulSoup(webpage,'lxml')      # lxml=HTML parcel is a python library for parsing,modifying,and extracting in formation from these doecuments types "
   ]
  },
  {
   "cell_type": "code",
   "execution_count": 4,
   "id": "cc79bda8-06e0-4077-ba1a-3f7746bdfc5f",
   "metadata": {},
   "outputs": [],
   "source": [
    "#print(soup.prettify())     #pretify formats HTML properly to understand organised  webpage "
   ]
  },
  {
   "cell_type": "code",
   "execution_count": 5,
   "id": "22fdefef-cbbe-49f2-a9ff-d315be1c88fc",
   "metadata": {},
   "outputs": [
    {
     "data": {
      "text/plain": [
       "'List of companies in India'"
      ]
     },
     "execution_count": 5,
     "metadata": {},
     "output_type": "execute_result"
    }
   ],
   "source": [
    "soup.find_all('h1')[0].text.replace('\\n',\"\").replace('\\t',\"\")"
   ]
  },
  {
   "cell_type": "code",
   "execution_count": 6,
   "id": "d16be3a1-bdda-40d6-a3ff-2e06aeacdb6a",
   "metadata": {},
   "outputs": [
    {
     "data": {
      "text/plain": [
       "24"
      ]
     },
     "execution_count": 6,
     "metadata": {},
     "output_type": "execute_result"
    }
   ],
   "source": [
    "len(soup.find_all('h2'))"
   ]
  },
  {
   "cell_type": "code",
   "execution_count": 7,
   "id": "721da268-551c-4006-a555-2b261b07f85f",
   "metadata": {},
   "outputs": [
    {
     "data": {
      "text/plain": [
       "[<h2 class=\"companyCardWrapper__companyName\" title=\"TCS\">\n",
       " \t\t\t\t\t\t\t\t\t\tTCS\n",
       " \t\t\t\t\t\t\t\t\t</h2>,\n",
       " <h2 class=\"companyCardWrapper__companyName\" title=\"Accenture\">\n",
       " \t\t\t\t\t\t\t\t\t\tAccenture\n",
       " \t\t\t\t\t\t\t\t\t</h2>,\n",
       " <h2 class=\"companyCardWrapper__companyName\" title=\"Cognizant\">\n",
       " \t\t\t\t\t\t\t\t\t\tCognizant\n",
       " \t\t\t\t\t\t\t\t\t</h2>,\n",
       " <h2 class=\"companyCardWrapper__companyName\" title=\"Wipro\">\n",
       " \t\t\t\t\t\t\t\t\t\tWipro\n",
       " \t\t\t\t\t\t\t\t\t</h2>,\n",
       " <h2 class=\"companyCardWrapper__companyName\" title=\"Capgemini\">\n",
       " \t\t\t\t\t\t\t\t\t\tCapgemini\n",
       " \t\t\t\t\t\t\t\t\t</h2>,\n",
       " <h2 class=\"companyCardWrapper__companyName\" title=\"HDFC Bank\">\n",
       " \t\t\t\t\t\t\t\t\t\tHDFC Bank\n",
       " \t\t\t\t\t\t\t\t\t</h2>,\n",
       " <h2 class=\"companyCardWrapper__companyName\" title=\"ICICI Bank\">\n",
       " \t\t\t\t\t\t\t\t\t\tICICI Bank\n",
       " \t\t\t\t\t\t\t\t\t</h2>,\n",
       " <h2 class=\"companyCardWrapper__companyName\" title=\"Infosys\">\n",
       " \t\t\t\t\t\t\t\t\t\tInfosys\n",
       " \t\t\t\t\t\t\t\t\t</h2>,\n",
       " <h2 class=\"companyCardWrapper__companyName\" title=\"HCLTech\">\n",
       " \t\t\t\t\t\t\t\t\t\tHCLTech\n",
       " \t\t\t\t\t\t\t\t\t</h2>,\n",
       " <h2 class=\"companyCardWrapper__companyName\" title=\"Tech Mahindra\">\n",
       " \t\t\t\t\t\t\t\t\t\tTech Mahindra\n",
       " \t\t\t\t\t\t\t\t\t</h2>,\n",
       " <h2 class=\"companyCardWrapper__companyName\" title=\"Genpact\">\n",
       " \t\t\t\t\t\t\t\t\t\tGenpact\n",
       " \t\t\t\t\t\t\t\t\t</h2>,\n",
       " <h2 class=\"companyCardWrapper__companyName\" title=\"Axis Bank\">\n",
       " \t\t\t\t\t\t\t\t\t\tAxis Bank\n",
       " \t\t\t\t\t\t\t\t\t</h2>,\n",
       " <h2 class=\"companyCardWrapper__companyName\" title=\"Teleperformance\">\n",
       " \t\t\t\t\t\t\t\t\t\tTeleperformance\n",
       " \t\t\t\t\t\t\t\t\t</h2>,\n",
       " <h2 class=\"companyCardWrapper__companyName\" title=\"Concentrix Corporation\">\n",
       " \t\t\t\t\t\t\t\t\t\tConcentrix Corporation\n",
       " \t\t\t\t\t\t\t\t\t</h2>,\n",
       " <h2 class=\"companyCardWrapper__companyName\" title=\"Jio\">\n",
       " \t\t\t\t\t\t\t\t\t\tJio\n",
       " \t\t\t\t\t\t\t\t\t</h2>,\n",
       " <h2 class=\"companyCardWrapper__companyName\" title=\"Amazon\">\n",
       " \t\t\t\t\t\t\t\t\t\tAmazon\n",
       " \t\t\t\t\t\t\t\t\t</h2>,\n",
       " <h2 class=\"companyCardWrapper__companyName\" title=\"IBM\">\n",
       " \t\t\t\t\t\t\t\t\t\tIBM\n",
       " \t\t\t\t\t\t\t\t\t</h2>,\n",
       " <h2 class=\"companyCardWrapper__companyName\" title=\"Reliance Retail\">\n",
       " \t\t\t\t\t\t\t\t\t\tReliance Retail\n",
       " \t\t\t\t\t\t\t\t\t</h2>,\n",
       " <h2 class=\"companyCardWrapper__companyName\" title=\"HDB Financial Services\">\n",
       " \t\t\t\t\t\t\t\t\t\tHDB Financial Services\n",
       " \t\t\t\t\t\t\t\t\t</h2>,\n",
       " <h2 class=\"companyCardWrapper__companyName\" title=\"Larsen &amp; Toubro Limited\">\n",
       " \t\t\t\t\t\t\t\t\t\tLarsen &amp; Toubro Limited\n",
       " \t\t\t\t\t\t\t\t\t</h2>,\n",
       " <h2 class=\"main-title body-medium\">\n",
       " \t\t\tCompanies by  Industry\n",
       " \t\t</h2>,\n",
       " <h2 class=\"main-title body-medium\">\n",
       " \t\t\tCompanies by  Locations\n",
       " \t\t</h2>,\n",
       " <h2 class=\"main-title body-medium\">\n",
       " \t\t\tCompanies by  Type\n",
       " \t\t</h2>,\n",
       " <h2 class=\"main-title body-medium\">\n",
       " \t\t\tCompanies by  Badges\n",
       " \t\t</h2>]"
      ]
     },
     "execution_count": 7,
     "metadata": {},
     "output_type": "execute_result"
    }
   ],
   "source": [
    "soup.find_all('h2')"
   ]
  },
  {
   "cell_type": "code",
   "execution_count": 8,
   "id": "09e7b9a3-747b-4251-aea3-ce94dc87e9c6",
   "metadata": {},
   "outputs": [
    {
     "name": "stdout",
     "output_type": "stream",
     "text": [
      "TCS\n",
      "Accenture\n",
      "Cognizant\n",
      "Wipro\n",
      "Capgemini\n",
      "HDFC Bank\n",
      "ICICI Bank\n",
      "Infosys\n",
      "HCLTech\n",
      "Tech Mahindra\n",
      "Genpact\n",
      "Axis Bank\n",
      "Teleperformance\n",
      "Concentrix Corporation\n",
      "Jio\n",
      "Amazon\n",
      "IBM\n",
      "Reliance Retail\n",
      "HDB Financial Services\n",
      "Larsen & Toubro Limited\n",
      "Companies by  Industry\n",
      "Companies by  Locations\n",
      "Companies by  Type\n",
      "Companies by  Badges\n"
     ]
    }
   ],
   "source": [
    "for i in soup.find_all('h2'):\n",
    "  #print(i.text)\n",
    "   print(i.text.strip())  # sttrip is used to remove for gaping due to speacial charcters like spaces and slashes"
   ]
  },
  {
   "cell_type": "code",
   "execution_count": 9,
   "id": "7d8ec254-fd9a-4678-8450-5dd4f4624d2a",
   "metadata": {},
   "outputs": [
    {
     "data": {
      "text/plain": [
       "\"for i in soup.find_all('div'):   # div tag is used for all raitng ,reviews ,type etc so cant differntiate\\n  print(i.text.strip())\""
      ]
     },
     "execution_count": 9,
     "metadata": {},
     "output_type": "execute_result"
    }
   ],
   "source": [
    "'''for i in soup.find_all('div'):   # div tag is used for all raitng ,reviews ,type etc so cant differntiate\n",
    "  print(i.text.strip())'''"
   ]
  },
  {
   "cell_type": "code",
   "execution_count": 10,
   "id": "60ed9f3f-1e7a-4732-a588-6a2a5dfdaff9",
   "metadata": {},
   "outputs": [
    {
     "data": {
      "text/plain": [
       "20"
      ]
     },
     "execution_count": 10,
     "metadata": {},
     "output_type": "execute_result"
    }
   ],
   "source": [
    "len(soup.find_all('div',class_=\"companyCardWrapper__companyRatingWrapper\"))"
   ]
  },
  {
   "cell_type": "code",
   "execution_count": 11,
   "id": "c604e3f6-4aaa-462b-afe1-c5e41aefdc93",
   "metadata": {},
   "outputs": [
    {
     "data": {
      "text/plain": [
       "120"
      ]
     },
     "execution_count": 11,
     "metadata": {},
     "output_type": "execute_result"
    }
   ],
   "source": [
    "len(soup.find_all('a' , class_='companyCardWrapper__ActionWrapper'))"
   ]
  },
  {
   "cell_type": "code",
   "execution_count": 12,
   "id": "13e8ac10-fdfe-4375-acce-46d884d1ed74",
   "metadata": {},
   "outputs": [
    {
     "data": {
      "text/plain": [
       "'IT Services & Consulting | 1 Lakh+ Employees | Public | 35 years old | Dublin +175 more'"
      ]
     },
     "execution_count": 12,
     "metadata": {},
     "output_type": "execute_result"
    }
   ],
   "source": [
    "company=soup.find_all('span',class_='companyCardWrapper__interLinking')\n",
    "company[1].text.strip()"
   ]
  },
  {
   "cell_type": "code",
   "execution_count": 13,
   "id": "ee1a705b-b173-4260-aa77-2b6834a4437a",
   "metadata": {},
   "outputs": [],
   "source": [
    "prop= soup.find_all('a' , class_='companyCardWrapper__ActionWrapper')  \n",
    "    "
   ]
  },
  {
   "cell_type": "code",
   "execution_count": 14,
   "id": "7e677a18-73d9-4d0d-aaa4-c6b06a788230",
   "metadata": {},
   "outputs": [
    {
     "data": {
      "text/plain": [
       "120"
      ]
     },
     "execution_count": 14,
     "metadata": {},
     "output_type": "execute_result"
    }
   ],
   "source": [
    "len(prop)"
   ]
  },
  {
   "cell_type": "code",
   "execution_count": 15,
   "id": "5aade971-fe76-48ff-b2e7-ab1ddbc6adb4",
   "metadata": {},
   "outputs": [],
   "source": [
    "com= soup.find_all('div',class_='companyCardWrapper')"
   ]
  },
  {
   "cell_type": "code",
   "execution_count": 16,
   "id": "d3f4e80e-a6eb-40a7-942c-129b3b472654",
   "metadata": {},
   "outputs": [
    {
     "data": {
      "text/plain": [
       "20"
      ]
     },
     "execution_count": 16,
     "metadata": {},
     "output_type": "execute_result"
    }
   ],
   "source": [
    "len(com)"
   ]
  },
  {
   "cell_type": "code",
   "execution_count": 17,
   "id": "825940ce-98ed-4172-9b17-1fd91a806f04",
   "metadata": {},
   "outputs": [
    {
     "data": {
      "text/plain": [
       "'846.8k Salaries'"
      ]
     },
     "execution_count": 17,
     "metadata": {},
     "output_type": "execute_result"
    }
   ],
   "source": [
    "com[0].find_all('a' , class_='companyCardWrapper__ActionWrapper')[1].text.strip()"
   ]
  },
  {
   "cell_type": "code",
   "execution_count": 18,
   "id": "be41ea7c-0f66-4254-90f7-1ea07fd1bdd6",
   "metadata": {},
   "outputs": [
    {
     "data": {
      "text/plain": [
       "[<span class=\"companyCardWrapper__interLinking\">\n",
       " \t\t\t\t\t\t\t\t\tIT Services &amp; Consulting | 1 Lakh+ Employees | Public | 56 years old | Mumbai +342 more\n",
       " \t\t\t\t\t\t\t\t</span>]"
      ]
     },
     "execution_count": 18,
     "metadata": {},
     "output_type": "execute_result"
    }
   ],
   "source": [
    "com[0].find_all('span',class_='companyCardWrapper__interLinking')\n",
    "\n",
    "# if we can seprate type , employees ,public,old,head_quarter then use:\n",
    "#com[0].find_all('span',class_='companyCardWrapper__interLinking')[0].text.strip()"
   ]
  },
  {
   "cell_type": "code",
   "execution_count": 19,
   "id": "721e48bc-dbae-4634-bd43-c3448826e4bd",
   "metadata": {},
   "outputs": [],
   "source": [
    "name=[]\n",
    "rating=[]\n",
    "comp_type=[]\n",
    "reviews=[]\n",
    "salaries=[]\n",
    "interviews=[]\n",
    "jobs=[]\n",
    "benefits=[]\n",
    "photos=[]\n",
    "comp_type=[]\n",
    "\n",
    "for i in com:\n",
    "    #print(i.find('h2'))\n",
    "    #print(i.find('h2').text.strip())\n",
    "    \n",
    "  name.append(i.find('h2').text.strip())\n",
    "    \n",
    "  rating.append(i.find_all('div',class_='companyCardWrapper__companyRatingWrapper')[0].text.strip())\n",
    "    \n",
    "  comp_type.append(i.find('span',class_='companyCardWrapper__interLinking').text.strip())\n",
    "  \n",
    "  reviews.append(i.find_all('a' , class_='companyCardWrapper__ActionWrapper')[0].text.strip())  \n",
    "    \n",
    "  salaries.append(i.find_all('a',class_= 'companyCardWrapper__ActionWrapper')[1].text.strip())\n",
    "    \n",
    "  interviews.append(i.find_all('a',class_= 'companyCardWrapper__ActionWrapper')[2].text.strip())\n",
    "\n",
    "  jobs.append(i.find_all('a',class_= 'companyCardWrapper__ActionWrapper')[3].text.strip())\n",
    "  \n",
    "  benefits.append(i.find_all('a',class_= 'companyCardWrapper__ActionWrapper')[4].text.strip())\n",
    "\n",
    "  photos.append(i.find_all('a',class_= 'companyCardWrapper__ActionWrapper')[5].text.strip())\n",
    "    \n",
    "    \n",
    "d=pd.DataFrame({'name':name,\n",
    "   'rating':rating,\n",
    "   'company_type':comp_type,\n",
    "   'reviews':reviews,\n",
    "   'salary':salaries,\n",
    "   'interview':interviews,\n",
    "   'jobs':jobs,\n",
    "   'benefits':benefits,\n",
    "   'photos':photos,\n",
    "                 \n",
    "   }) \n",
    "df=pd.DataFrame(d)"
   ]
  },
  {
   "cell_type": "code",
   "execution_count": 20,
   "id": "40c21705-8b03-4795-9ee8-1567ac52348e",
   "metadata": {},
   "outputs": [
    {
     "data": {
      "text/plain": [
       "['TCS',\n",
       " 'Accenture',\n",
       " 'Cognizant',\n",
       " 'Wipro',\n",
       " 'Capgemini',\n",
       " 'HDFC Bank',\n",
       " 'ICICI Bank',\n",
       " 'Infosys',\n",
       " 'HCLTech',\n",
       " 'Tech Mahindra',\n",
       " 'Genpact',\n",
       " 'Axis Bank',\n",
       " 'Teleperformance',\n",
       " 'Concentrix Corporation',\n",
       " 'Jio',\n",
       " 'Amazon',\n",
       " 'IBM',\n",
       " 'Reliance Retail',\n",
       " 'HDB Financial Services',\n",
       " 'Larsen & Toubro Limited']"
      ]
     },
     "execution_count": 20,
     "metadata": {},
     "output_type": "execute_result"
    }
   ],
   "source": [
    "name"
   ]
  },
  {
   "cell_type": "code",
   "execution_count": 21,
   "id": "f2833abb-1741-4243-be30-63a412d90c2f",
   "metadata": {},
   "outputs": [
    {
     "data": {
      "text/plain": [
       "['3.8',\n",
       " '4.0',\n",
       " '3.9',\n",
       " '3.8',\n",
       " '3.9',\n",
       " '4.0',\n",
       " '4.0',\n",
       " '3.8',\n",
       " '3.7',\n",
       " '3.7',\n",
       " '3.9',\n",
       " '3.9',\n",
       " '3.6',\n",
       " '3.9',\n",
       " '4.0',\n",
       " '4.1',\n",
       " '4.1',\n",
       " '4.0',\n",
       " '4.0',\n",
       " '4.1']"
      ]
     },
     "execution_count": 21,
     "metadata": {},
     "output_type": "execute_result"
    }
   ],
   "source": [
    "rating"
   ]
  },
  {
   "cell_type": "code",
   "execution_count": 22,
   "id": "ee6cca9f-6f7b-4753-a04c-006954b9780c",
   "metadata": {},
   "outputs": [
    {
     "data": {
      "text/plain": [
       "['73.8k Reviews',\n",
       " '46.8k Reviews',\n",
       " '42.2k Reviews',\n",
       " '39.6k Reviews',\n",
       " '34.3k Reviews',\n",
       " '34.3k Reviews',\n",
       " '33.8k Reviews',\n",
       " '32.1k Reviews',\n",
       " '28.9k Reviews',\n",
       " '27.9k Reviews',\n",
       " '26.5k Reviews',\n",
       " '22.2k Reviews',\n",
       " '22.2k Reviews',\n",
       " '22k Reviews',\n",
       " '20.8k Reviews',\n",
       " '20.7k Reviews',\n",
       " '19.9k Reviews',\n",
       " '19k Reviews',\n",
       " '18.3k Reviews',\n",
       " '16.8k Reviews']"
      ]
     },
     "execution_count": 22,
     "metadata": {},
     "output_type": "execute_result"
    }
   ],
   "source": [
    "reviews"
   ]
  },
  {
   "cell_type": "code",
   "execution_count": 23,
   "id": "3035be6d-8731-490b-b1d0-9aab4f2015a8",
   "metadata": {},
   "outputs": [
    {
     "data": {
      "text/plain": [
       "['846.8k Salaries',\n",
       " '580.6k Salaries',\n",
       " '555.4k Salaries',\n",
       " '422.1k Salaries',\n",
       " '412.6k Salaries',\n",
       " '131.2k Salaries',\n",
       " '140.6k Salaries',\n",
       " '456.6k Salaries',\n",
       " '292.6k Salaries',\n",
       " '249.2k Salaries',\n",
       " '186.4k Salaries',\n",
       " '97.2k Salaries',\n",
       " '83.6k Salaries',\n",
       " '105.5k Salaries',\n",
       " '65.8k Salaries',\n",
       " '121.2k Salaries',\n",
       " '217.2k Salaries',\n",
       " '60k Salaries',\n",
       " '49.5k Salaries',\n",
       " '78.9k Salaries']"
      ]
     },
     "execution_count": 23,
     "metadata": {},
     "output_type": "execute_result"
    }
   ],
   "source": [
    "salaries"
   ]
  },
  {
   "cell_type": "code",
   "execution_count": 24,
   "id": "852073ee-b62a-43d4-91ea-f9704d3770f4",
   "metadata": {},
   "outputs": [
    {
     "data": {
      "text/plain": [
       "['6.5k Interviews',\n",
       " '4.6k Interviews',\n",
       " '3.8k Interviews',\n",
       " '3.8k Interviews',\n",
       " '3k Interviews',\n",
       " '1.6k Interviews',\n",
       " '1.9k Interviews',\n",
       " '5k Interviews',\n",
       " '2.6k Interviews',\n",
       " '2.5k Interviews',\n",
       " '2k Interviews',\n",
       " '1.1k Interviews',\n",
       " '1.3k Interviews',\n",
       " '1.1k Interviews',\n",
       " '1.2k Interviews',\n",
       " '3.5k Interviews',\n",
       " '1.6k Interviews',\n",
       " '1.2k Interviews',\n",
       " '607 Interviews',\n",
       " '1.1k Interviews']"
      ]
     },
     "execution_count": 24,
     "metadata": {},
     "output_type": "execute_result"
    }
   ],
   "source": [
    "interviews"
   ]
  },
  {
   "cell_type": "code",
   "execution_count": 25,
   "id": "1d17c794-85db-49b4-9506-4023ad170ab9",
   "metadata": {},
   "outputs": [
    {
     "data": {
      "text/plain": [
       "['981 Jobs',\n",
       " '26.7k Jobs',\n",
       " '387 Jobs',\n",
       " '229 Jobs',\n",
       " '662 Jobs',\n",
       " '217 Jobs',\n",
       " '55 Jobs',\n",
       " '963 Jobs',\n",
       " '281 Jobs',\n",
       " '1k Jobs',\n",
       " '630 Jobs',\n",
       " '172 Jobs',\n",
       " '391 Jobs',\n",
       " '84 Jobs',\n",
       " '138 Jobs',\n",
       " '204 Jobs',\n",
       " '2.9k Jobs',\n",
       " '155 Jobs',\n",
       " '112 Jobs',\n",
       " '156 Jobs']"
      ]
     },
     "execution_count": 25,
     "metadata": {},
     "output_type": "execute_result"
    }
   ],
   "source": [
    "jobs"
   ]
  },
  {
   "cell_type": "code",
   "execution_count": 26,
   "id": "dc8dfe7d-e10a-459e-aa4b-d25ebb419571",
   "metadata": {},
   "outputs": [
    {
     "data": {
      "text/plain": [
       "['11.6k Benefits',\n",
       " '7.2k Benefits',\n",
       " '5.9k Benefits',\n",
       " '5k Benefits',\n",
       " '4k Benefits',\n",
       " '3.3k Benefits',\n",
       " '3.8k Benefits',\n",
       " '5.2k Benefits',\n",
       " '4.1k Benefits',\n",
       " '3.6k Benefits',\n",
       " '3.7k Benefits',\n",
       " '2.2k Benefits',\n",
       " '2k Benefits',\n",
       " '3.3k Benefits',\n",
       " '2.6k Benefits',\n",
       " '4.2k Benefits',\n",
       " '2.7k Benefits',\n",
       " '2k Benefits',\n",
       " '1.5k Benefits',\n",
       " '2.9k Benefits']"
      ]
     },
     "execution_count": 26,
     "metadata": {},
     "output_type": "execute_result"
    }
   ],
   "source": [
    "benefits"
   ]
  },
  {
   "cell_type": "code",
   "execution_count": 27,
   "id": "39144461-5906-4194-8b9b-de4c0d1bea54",
   "metadata": {},
   "outputs": [
    {
     "data": {
      "text/plain": [
       "['77 Photos',\n",
       " '39 Photos',\n",
       " '63 Photos',\n",
       " '79 Photos',\n",
       " '32 Photos',\n",
       " '4 Photos',\n",
       " '48 Photos',\n",
       " '85 Photos',\n",
       " '35 Photos',\n",
       " '42 Photos',\n",
       " '36 Photos',\n",
       " '45 Photos',\n",
       " '29 Photos',\n",
       " '33 Photos',\n",
       " '43 Photos',\n",
       " '53 Photos',\n",
       " '20 Photos',\n",
       " '101 Photos',\n",
       " '32 Photos',\n",
       " '32 Photos']"
      ]
     },
     "execution_count": 27,
     "metadata": {},
     "output_type": "execute_result"
    }
   ],
   "source": [
    "photos"
   ]
  },
  {
   "cell_type": "code",
   "execution_count": 28,
   "id": "c75f7c87-eeff-48b6-aecf-a2494257cedb",
   "metadata": {},
   "outputs": [
    {
     "data": {
      "text/plain": [
       "['IT Services & Consulting | 1 Lakh+ Employees | Public | 56 years old | Mumbai +342 more',\n",
       " 'IT Services & Consulting | 1 Lakh+ Employees | Public | 35 years old | Dublin +175 more',\n",
       " 'IT Services & Consulting | 1 Lakh+ Employees | Forbes Global 2000 | 30 years old | Teaneck. New Jersey. +159 more',\n",
       " 'IT Services & Consulting | 1 Lakh+ Employees | Public | 79 years old | Bangalore/Bengaluru +276 more',\n",
       " 'IT Services & Consulting | 1 Lakh+ Employees | Public | 57 years old | Paris +140 more',\n",
       " 'Banking | 1 Lakh+ Employees | Public | 30 years old | Mumbai +1540 more',\n",
       " 'Banking | 1 Lakh+ Employees | Public | 30 years old | Mumbai +1283 more',\n",
       " 'IT Services & Consulting | 1 Lakh+ Employees | Public | 43 years old | Bengaluru/Bangalore +181 more',\n",
       " 'IT Services & Consulting | 1 Lakh+ Employees | Public | 33 years old | Noida +183 more',\n",
       " 'IT Services & Consulting | 1 Lakh+ Employees | Public | 38 years old | Pune +264 more',\n",
       " 'IT Services & Consulting | 1 Lakh+ Employees | Public | 27 years old | New York +110 more',\n",
       " 'Banking | 50k-1 Lakh Employees | Public | 31 years old | Mumbai +1298 more',\n",
       " 'BPO | 50k-1 Lakh Employees | Forbes Global 2000 | 46 years old | Paris +183 more',\n",
       " 'BPO | 50k-1 Lakh Employees | Public | 41 years old | Fremont +115 more',\n",
       " 'Telecom | 50k-1 Lakh Employees | Public | 17 years old | Navi Mumbai +1171 more',\n",
       " 'Internet | 1 Lakh+ Employees | Public | 30 years old | Seattle +440 more',\n",
       " 'IT Services & Consulting | 1 Lakh+ Employees | Public | 113 years old | Armonk +145 more',\n",
       " 'Retail | 1 Lakh+ Employees | 18 years old | Navi Mumbai +995 more',\n",
       " 'NBFC | 1 Lakh+ Employees | 17 years old | Ahmedabad +947 more',\n",
       " 'Engineering & Construction | 10k-50k Employees | Public | 86 years old | Mumbai +621 more']"
      ]
     },
     "execution_count": 28,
     "metadata": {},
     "output_type": "execute_result"
    }
   ],
   "source": [
    "comp_type"
   ]
  },
  {
   "cell_type": "code",
   "execution_count": 29,
   "id": "1da31df7-ea12-492e-b7de-ade2e46ed0ec",
   "metadata": {},
   "outputs": [
    {
     "data": {
      "text/html": [
       "<div>\n",
       "<style scoped>\n",
       "    .dataframe tbody tr th:only-of-type {\n",
       "        vertical-align: middle;\n",
       "    }\n",
       "\n",
       "    .dataframe tbody tr th {\n",
       "        vertical-align: top;\n",
       "    }\n",
       "\n",
       "    .dataframe thead th {\n",
       "        text-align: right;\n",
       "    }\n",
       "</style>\n",
       "<table border=\"1\" class=\"dataframe\">\n",
       "  <thead>\n",
       "    <tr style=\"text-align: right;\">\n",
       "      <th></th>\n",
       "      <th>name</th>\n",
       "      <th>rating</th>\n",
       "      <th>company_type</th>\n",
       "      <th>reviews</th>\n",
       "      <th>salary</th>\n",
       "      <th>interview</th>\n",
       "      <th>jobs</th>\n",
       "      <th>benefits</th>\n",
       "      <th>photos</th>\n",
       "    </tr>\n",
       "  </thead>\n",
       "  <tbody>\n",
       "    <tr>\n",
       "      <th>0</th>\n",
       "      <td>TCS</td>\n",
       "      <td>3.8</td>\n",
       "      <td>IT Services &amp; Consulting | 1 Lakh+ Employees |...</td>\n",
       "      <td>73.8k Reviews</td>\n",
       "      <td>846.8k Salaries</td>\n",
       "      <td>6.5k Interviews</td>\n",
       "      <td>981 Jobs</td>\n",
       "      <td>11.6k Benefits</td>\n",
       "      <td>77 Photos</td>\n",
       "    </tr>\n",
       "    <tr>\n",
       "      <th>1</th>\n",
       "      <td>Accenture</td>\n",
       "      <td>4.0</td>\n",
       "      <td>IT Services &amp; Consulting | 1 Lakh+ Employees |...</td>\n",
       "      <td>46.8k Reviews</td>\n",
       "      <td>580.6k Salaries</td>\n",
       "      <td>4.6k Interviews</td>\n",
       "      <td>26.7k Jobs</td>\n",
       "      <td>7.2k Benefits</td>\n",
       "      <td>39 Photos</td>\n",
       "    </tr>\n",
       "    <tr>\n",
       "      <th>2</th>\n",
       "      <td>Cognizant</td>\n",
       "      <td>3.9</td>\n",
       "      <td>IT Services &amp; Consulting | 1 Lakh+ Employees |...</td>\n",
       "      <td>42.2k Reviews</td>\n",
       "      <td>555.4k Salaries</td>\n",
       "      <td>3.8k Interviews</td>\n",
       "      <td>387 Jobs</td>\n",
       "      <td>5.9k Benefits</td>\n",
       "      <td>63 Photos</td>\n",
       "    </tr>\n",
       "    <tr>\n",
       "      <th>3</th>\n",
       "      <td>Wipro</td>\n",
       "      <td>3.8</td>\n",
       "      <td>IT Services &amp; Consulting | 1 Lakh+ Employees |...</td>\n",
       "      <td>39.6k Reviews</td>\n",
       "      <td>422.1k Salaries</td>\n",
       "      <td>3.8k Interviews</td>\n",
       "      <td>229 Jobs</td>\n",
       "      <td>5k Benefits</td>\n",
       "      <td>79 Photos</td>\n",
       "    </tr>\n",
       "    <tr>\n",
       "      <th>4</th>\n",
       "      <td>Capgemini</td>\n",
       "      <td>3.9</td>\n",
       "      <td>IT Services &amp; Consulting | 1 Lakh+ Employees |...</td>\n",
       "      <td>34.3k Reviews</td>\n",
       "      <td>412.6k Salaries</td>\n",
       "      <td>3k Interviews</td>\n",
       "      <td>662 Jobs</td>\n",
       "      <td>4k Benefits</td>\n",
       "      <td>32 Photos</td>\n",
       "    </tr>\n",
       "    <tr>\n",
       "      <th>5</th>\n",
       "      <td>HDFC Bank</td>\n",
       "      <td>4.0</td>\n",
       "      <td>Banking | 1 Lakh+ Employees | Public | 30 year...</td>\n",
       "      <td>34.3k Reviews</td>\n",
       "      <td>131.2k Salaries</td>\n",
       "      <td>1.6k Interviews</td>\n",
       "      <td>217 Jobs</td>\n",
       "      <td>3.3k Benefits</td>\n",
       "      <td>4 Photos</td>\n",
       "    </tr>\n",
       "    <tr>\n",
       "      <th>6</th>\n",
       "      <td>ICICI Bank</td>\n",
       "      <td>4.0</td>\n",
       "      <td>Banking | 1 Lakh+ Employees | Public | 30 year...</td>\n",
       "      <td>33.8k Reviews</td>\n",
       "      <td>140.6k Salaries</td>\n",
       "      <td>1.9k Interviews</td>\n",
       "      <td>55 Jobs</td>\n",
       "      <td>3.8k Benefits</td>\n",
       "      <td>48 Photos</td>\n",
       "    </tr>\n",
       "    <tr>\n",
       "      <th>7</th>\n",
       "      <td>Infosys</td>\n",
       "      <td>3.8</td>\n",
       "      <td>IT Services &amp; Consulting | 1 Lakh+ Employees |...</td>\n",
       "      <td>32.1k Reviews</td>\n",
       "      <td>456.6k Salaries</td>\n",
       "      <td>5k Interviews</td>\n",
       "      <td>963 Jobs</td>\n",
       "      <td>5.2k Benefits</td>\n",
       "      <td>85 Photos</td>\n",
       "    </tr>\n",
       "    <tr>\n",
       "      <th>8</th>\n",
       "      <td>HCLTech</td>\n",
       "      <td>3.7</td>\n",
       "      <td>IT Services &amp; Consulting | 1 Lakh+ Employees |...</td>\n",
       "      <td>28.9k Reviews</td>\n",
       "      <td>292.6k Salaries</td>\n",
       "      <td>2.6k Interviews</td>\n",
       "      <td>281 Jobs</td>\n",
       "      <td>4.1k Benefits</td>\n",
       "      <td>35 Photos</td>\n",
       "    </tr>\n",
       "    <tr>\n",
       "      <th>9</th>\n",
       "      <td>Tech Mahindra</td>\n",
       "      <td>3.7</td>\n",
       "      <td>IT Services &amp; Consulting | 1 Lakh+ Employees |...</td>\n",
       "      <td>27.9k Reviews</td>\n",
       "      <td>249.2k Salaries</td>\n",
       "      <td>2.5k Interviews</td>\n",
       "      <td>1k Jobs</td>\n",
       "      <td>3.6k Benefits</td>\n",
       "      <td>42 Photos</td>\n",
       "    </tr>\n",
       "    <tr>\n",
       "      <th>10</th>\n",
       "      <td>Genpact</td>\n",
       "      <td>3.9</td>\n",
       "      <td>IT Services &amp; Consulting | 1 Lakh+ Employees |...</td>\n",
       "      <td>26.5k Reviews</td>\n",
       "      <td>186.4k Salaries</td>\n",
       "      <td>2k Interviews</td>\n",
       "      <td>630 Jobs</td>\n",
       "      <td>3.7k Benefits</td>\n",
       "      <td>36 Photos</td>\n",
       "    </tr>\n",
       "    <tr>\n",
       "      <th>11</th>\n",
       "      <td>Axis Bank</td>\n",
       "      <td>3.9</td>\n",
       "      <td>Banking | 50k-1 Lakh Employees | Public | 31 y...</td>\n",
       "      <td>22.2k Reviews</td>\n",
       "      <td>97.2k Salaries</td>\n",
       "      <td>1.1k Interviews</td>\n",
       "      <td>172 Jobs</td>\n",
       "      <td>2.2k Benefits</td>\n",
       "      <td>45 Photos</td>\n",
       "    </tr>\n",
       "    <tr>\n",
       "      <th>12</th>\n",
       "      <td>Teleperformance</td>\n",
       "      <td>3.6</td>\n",
       "      <td>BPO | 50k-1 Lakh Employees | Forbes Global 200...</td>\n",
       "      <td>22.2k Reviews</td>\n",
       "      <td>83.6k Salaries</td>\n",
       "      <td>1.3k Interviews</td>\n",
       "      <td>391 Jobs</td>\n",
       "      <td>2k Benefits</td>\n",
       "      <td>29 Photos</td>\n",
       "    </tr>\n",
       "    <tr>\n",
       "      <th>13</th>\n",
       "      <td>Concentrix Corporation</td>\n",
       "      <td>3.9</td>\n",
       "      <td>BPO | 50k-1 Lakh Employees | Public | 41 years...</td>\n",
       "      <td>22k Reviews</td>\n",
       "      <td>105.5k Salaries</td>\n",
       "      <td>1.1k Interviews</td>\n",
       "      <td>84 Jobs</td>\n",
       "      <td>3.3k Benefits</td>\n",
       "      <td>33 Photos</td>\n",
       "    </tr>\n",
       "    <tr>\n",
       "      <th>14</th>\n",
       "      <td>Jio</td>\n",
       "      <td>4.0</td>\n",
       "      <td>Telecom | 50k-1 Lakh Employees | Public | 17 y...</td>\n",
       "      <td>20.8k Reviews</td>\n",
       "      <td>65.8k Salaries</td>\n",
       "      <td>1.2k Interviews</td>\n",
       "      <td>138 Jobs</td>\n",
       "      <td>2.6k Benefits</td>\n",
       "      <td>43 Photos</td>\n",
       "    </tr>\n",
       "    <tr>\n",
       "      <th>15</th>\n",
       "      <td>Amazon</td>\n",
       "      <td>4.1</td>\n",
       "      <td>Internet | 1 Lakh+ Employees | Public | 30 yea...</td>\n",
       "      <td>20.7k Reviews</td>\n",
       "      <td>121.2k Salaries</td>\n",
       "      <td>3.5k Interviews</td>\n",
       "      <td>204 Jobs</td>\n",
       "      <td>4.2k Benefits</td>\n",
       "      <td>53 Photos</td>\n",
       "    </tr>\n",
       "    <tr>\n",
       "      <th>16</th>\n",
       "      <td>IBM</td>\n",
       "      <td>4.1</td>\n",
       "      <td>IT Services &amp; Consulting | 1 Lakh+ Employees |...</td>\n",
       "      <td>19.9k Reviews</td>\n",
       "      <td>217.2k Salaries</td>\n",
       "      <td>1.6k Interviews</td>\n",
       "      <td>2.9k Jobs</td>\n",
       "      <td>2.7k Benefits</td>\n",
       "      <td>20 Photos</td>\n",
       "    </tr>\n",
       "    <tr>\n",
       "      <th>17</th>\n",
       "      <td>Reliance Retail</td>\n",
       "      <td>4.0</td>\n",
       "      <td>Retail | 1 Lakh+ Employees | 18 years old | Na...</td>\n",
       "      <td>19k Reviews</td>\n",
       "      <td>60k Salaries</td>\n",
       "      <td>1.2k Interviews</td>\n",
       "      <td>155 Jobs</td>\n",
       "      <td>2k Benefits</td>\n",
       "      <td>101 Photos</td>\n",
       "    </tr>\n",
       "    <tr>\n",
       "      <th>18</th>\n",
       "      <td>HDB Financial Services</td>\n",
       "      <td>4.0</td>\n",
       "      <td>NBFC | 1 Lakh+ Employees | 17 years old | Ahme...</td>\n",
       "      <td>18.3k Reviews</td>\n",
       "      <td>49.5k Salaries</td>\n",
       "      <td>607 Interviews</td>\n",
       "      <td>112 Jobs</td>\n",
       "      <td>1.5k Benefits</td>\n",
       "      <td>32 Photos</td>\n",
       "    </tr>\n",
       "    <tr>\n",
       "      <th>19</th>\n",
       "      <td>Larsen &amp; Toubro Limited</td>\n",
       "      <td>4.1</td>\n",
       "      <td>Engineering &amp; Construction | 10k-50k Employees...</td>\n",
       "      <td>16.8k Reviews</td>\n",
       "      <td>78.9k Salaries</td>\n",
       "      <td>1.1k Interviews</td>\n",
       "      <td>156 Jobs</td>\n",
       "      <td>2.9k Benefits</td>\n",
       "      <td>32 Photos</td>\n",
       "    </tr>\n",
       "  </tbody>\n",
       "</table>\n",
       "</div>"
      ],
      "text/plain": [
       "                       name rating  \\\n",
       "0                       TCS    3.8   \n",
       "1                 Accenture    4.0   \n",
       "2                 Cognizant    3.9   \n",
       "3                     Wipro    3.8   \n",
       "4                 Capgemini    3.9   \n",
       "5                 HDFC Bank    4.0   \n",
       "6                ICICI Bank    4.0   \n",
       "7                   Infosys    3.8   \n",
       "8                   HCLTech    3.7   \n",
       "9             Tech Mahindra    3.7   \n",
       "10                  Genpact    3.9   \n",
       "11                Axis Bank    3.9   \n",
       "12          Teleperformance    3.6   \n",
       "13   Concentrix Corporation    3.9   \n",
       "14                      Jio    4.0   \n",
       "15                   Amazon    4.1   \n",
       "16                      IBM    4.1   \n",
       "17          Reliance Retail    4.0   \n",
       "18   HDB Financial Services    4.0   \n",
       "19  Larsen & Toubro Limited    4.1   \n",
       "\n",
       "                                         company_type        reviews  \\\n",
       "0   IT Services & Consulting | 1 Lakh+ Employees |...  73.8k Reviews   \n",
       "1   IT Services & Consulting | 1 Lakh+ Employees |...  46.8k Reviews   \n",
       "2   IT Services & Consulting | 1 Lakh+ Employees |...  42.2k Reviews   \n",
       "3   IT Services & Consulting | 1 Lakh+ Employees |...  39.6k Reviews   \n",
       "4   IT Services & Consulting | 1 Lakh+ Employees |...  34.3k Reviews   \n",
       "5   Banking | 1 Lakh+ Employees | Public | 30 year...  34.3k Reviews   \n",
       "6   Banking | 1 Lakh+ Employees | Public | 30 year...  33.8k Reviews   \n",
       "7   IT Services & Consulting | 1 Lakh+ Employees |...  32.1k Reviews   \n",
       "8   IT Services & Consulting | 1 Lakh+ Employees |...  28.9k Reviews   \n",
       "9   IT Services & Consulting | 1 Lakh+ Employees |...  27.9k Reviews   \n",
       "10  IT Services & Consulting | 1 Lakh+ Employees |...  26.5k Reviews   \n",
       "11  Banking | 50k-1 Lakh Employees | Public | 31 y...  22.2k Reviews   \n",
       "12  BPO | 50k-1 Lakh Employees | Forbes Global 200...  22.2k Reviews   \n",
       "13  BPO | 50k-1 Lakh Employees | Public | 41 years...    22k Reviews   \n",
       "14  Telecom | 50k-1 Lakh Employees | Public | 17 y...  20.8k Reviews   \n",
       "15  Internet | 1 Lakh+ Employees | Public | 30 yea...  20.7k Reviews   \n",
       "16  IT Services & Consulting | 1 Lakh+ Employees |...  19.9k Reviews   \n",
       "17  Retail | 1 Lakh+ Employees | 18 years old | Na...    19k Reviews   \n",
       "18  NBFC | 1 Lakh+ Employees | 17 years old | Ahme...  18.3k Reviews   \n",
       "19  Engineering & Construction | 10k-50k Employees...  16.8k Reviews   \n",
       "\n",
       "             salary        interview        jobs        benefits      photos  \n",
       "0   846.8k Salaries  6.5k Interviews    981 Jobs  11.6k Benefits   77 Photos  \n",
       "1   580.6k Salaries  4.6k Interviews  26.7k Jobs   7.2k Benefits   39 Photos  \n",
       "2   555.4k Salaries  3.8k Interviews    387 Jobs   5.9k Benefits   63 Photos  \n",
       "3   422.1k Salaries  3.8k Interviews    229 Jobs     5k Benefits   79 Photos  \n",
       "4   412.6k Salaries    3k Interviews    662 Jobs     4k Benefits   32 Photos  \n",
       "5   131.2k Salaries  1.6k Interviews    217 Jobs   3.3k Benefits    4 Photos  \n",
       "6   140.6k Salaries  1.9k Interviews     55 Jobs   3.8k Benefits   48 Photos  \n",
       "7   456.6k Salaries    5k Interviews    963 Jobs   5.2k Benefits   85 Photos  \n",
       "8   292.6k Salaries  2.6k Interviews    281 Jobs   4.1k Benefits   35 Photos  \n",
       "9   249.2k Salaries  2.5k Interviews     1k Jobs   3.6k Benefits   42 Photos  \n",
       "10  186.4k Salaries    2k Interviews    630 Jobs   3.7k Benefits   36 Photos  \n",
       "11   97.2k Salaries  1.1k Interviews    172 Jobs   2.2k Benefits   45 Photos  \n",
       "12   83.6k Salaries  1.3k Interviews    391 Jobs     2k Benefits   29 Photos  \n",
       "13  105.5k Salaries  1.1k Interviews     84 Jobs   3.3k Benefits   33 Photos  \n",
       "14   65.8k Salaries  1.2k Interviews    138 Jobs   2.6k Benefits   43 Photos  \n",
       "15  121.2k Salaries  3.5k Interviews    204 Jobs   4.2k Benefits   53 Photos  \n",
       "16  217.2k Salaries  1.6k Interviews   2.9k Jobs   2.7k Benefits   20 Photos  \n",
       "17     60k Salaries  1.2k Interviews    155 Jobs     2k Benefits  101 Photos  \n",
       "18   49.5k Salaries   607 Interviews    112 Jobs   1.5k Benefits   32 Photos  \n",
       "19   78.9k Salaries  1.1k Interviews    156 Jobs   2.9k Benefits   32 Photos  "
      ]
     },
     "execution_count": 29,
     "metadata": {},
     "output_type": "execute_result"
    }
   ],
   "source": [
    "df"
   ]
  },
  {
   "cell_type": "code",
   "execution_count": 30,
   "id": "fce19974-9247-4204-8b3e-9c9412c86696",
   "metadata": {},
   "outputs": [
    {
     "data": {
      "text/plain": [
       "(20, 9)"
      ]
     },
     "execution_count": 30,
     "metadata": {},
     "output_type": "execute_result"
    }
   ],
   "source": [
    "df.shape"
   ]
  },
  {
   "cell_type": "code",
   "execution_count": 31,
   "id": "17f4fc2c-43fe-4993-a0fd-6ce570fb5ccd",
   "metadata": {},
   "outputs": [],
   "source": [
    "rating=[]\n",
    "comp_type=[]\n",
    "reviews=[]\n",
    "salaries=[]\n",
    "interviews=[]\n",
    "jobs=[]\n",
    "benefits=[]\n",
    "photos=[]\n",
    "comp_type=[]\n",
    "\n",
    "for i in com:\n",
    "    #print(i.find('h2'))\n",
    "    #print(i.find('h2').text.strip())\n",
    "    \n",
    "  name.append(i.find('h2').text.strip())\n",
    "    \n",
    "  rating.append(i.find_all('div',class_='companyCardWrapper__companyRatingWrapper')[0].text.strip())\n",
    "    \n",
    "  comp_type.append(i.find_all('span',class_='companyCardWrapper__interLinking'))\n",
    "  \n",
    "  reviews.append(i.find_all('a' , class_='companyCardWrapper__ActionWrapper')[0].text.strip())  \n",
    "    \n",
    "  salaries.append(i.find_all('a',class_= 'companyCardWrapper__ActionWrapper')[1].text.strip())\n",
    "    \n",
    "  interviews.append(i.find_all('a',class_= 'companyCardWrapper__ActionWrapper')[2].text.strip())\n",
    "\n",
    "  jobs.append(i.find_all('a',class_= 'companyCardWrapper__ActionWrapper')[3].text.strip())\n",
    "  \n",
    "  benefits.append(i.find_all('a',class_= 'companyCardWrapper__ActionWrapper')[4].text.strip())\n",
    "\n",
    "  photos.append(i.find_all('a',class_= 'companyCardWrapper__ActionWrapper')[5].text.strip())\n",
    "    "
   ]
  },
  {
   "cell_type": "code",
   "execution_count": 54,
   "id": "caa41305-d7a5-4a9a-be5c-cfe5d07d459e",
   "metadata": {},
   "outputs": [
    {
     "ename": "IndentationError",
     "evalue": "unindent does not match any outer indentation level (<tokenize>, line 47)",
     "output_type": "error",
     "traceback": [
      "\u001b[1;36m  File \u001b[1;32m<tokenize>:47\u001b[1;36m\u001b[0m\n\u001b[1;33m    try:\u001b[0m\n\u001b[1;37m    ^\u001b[0m\n\u001b[1;31mIndentationError\u001b[0m\u001b[1;31m:\u001b[0m unindent does not match any outer indentation level\n"
     ]
    }
   ],
   "source": [
    "final=pd.DataFrame()\n",
    "for j in range(1,5):\n",
    "  webpage=requests.get('https://www.ambitionbox.com/list-of-companies?page={}'.format(j)).text\n",
    "  soup=BeautifulSoup(webpage,'lxml')\n",
    "  com=  soup.find_all('div',class_='companyCardWrapper')\n",
    "  name=[]\n",
    "  rating=[]\n",
    "  comp_type=[]\n",
    "  reviews=[]\n",
    "  salaries=[]\n",
    "  interviews=[]\n",
    "  jobs=[]\n",
    "  benefits=[]\n",
    "  photos=[]\n",
    "  comp_type=[]  \n",
    "\n",
    "  for i in com:\n",
    "      try:\n",
    "          name.append(i.find('h2').text.strip())\n",
    "      except:\n",
    "          name.append(np.nan)\n",
    "      try:\n",
    "          rating.append(i.find_all('div',class_='companyCardWrapper__companyRatingWrapper')[0].text.strip())\n",
    "      except:\n",
    "          rating.append(np.nan)\n",
    "     \n",
    "      try:\n",
    "          comp_type.append(i.find('span',class_='companyCardWrapper__interLinking').text.strip())\n",
    "      except:\n",
    "          comp_type.append(np.nan)\n",
    "\n",
    "      try:\n",
    "           reviews.append(i.find_all('a' , class_='companyCardWrapper__ActionWrapper')[0].text.strip())  \n",
    "      except:\n",
    "          reviews.append(np.nan)\n",
    "          \n",
    "      try:\n",
    "          salaries.append(i.find_all('a',class_= 'companyCardWrapper__ActionWrapper')[1].text.strip())\n",
    "      except:\n",
    "          salaries.append(np.nan)\n",
    "\n",
    "      try:\n",
    "          interviews.append(i.find_all('a',class_= 'companyCardWrapper__ActionWrapper')[2].text.strip())\n",
    "      except:\n",
    "          interviews.append(np.nan)\n",
    "\n",
    "       try:\n",
    "          jobs.append(i.find_all('a',class_= 'companyCardWrapper__ActionWrapper')[3].text.strip())\n",
    "       except:\n",
    "            jobs.append(np.nan)\n",
    "        \n",
    "       try:\n",
    "            benefits.append(i.find_all('a',class_= 'companyCardWrapper__ActionWrapper')[4].text.strip())\n",
    "       except:\n",
    "             benefits.append(np.nan)\n",
    "    \n",
    "\n",
    "           \n",
    "          \n",
    "          \n",
    "   df=pd.DataFrame({'name':name,\n",
    "   'rating':rating,\n",
    "   'company_type':comp_type,\n",
    "   'reviews':reviews,\n",
    "   'salary':salaries,\n",
    "   'interview':interviews,\n",
    "   'jobs':jobs,\n",
    "   'benefits':benefits,\n",
    "   'photos':photos,\n",
    "                 \n",
    "   }) \n",
    "\n",
    "final=final.append(df,ignore_index=True)\n",
    "          "
   ]
  },
  {
   "cell_type": "code",
   "execution_count": 33,
   "id": "e2e9255f-c8c7-4f5d-b802-f564e4a37443",
   "metadata": {},
   "outputs": [
    {
     "ename": "ValueError",
     "evalue": "a must be greater than 0 unless no samples are taken",
     "output_type": "error",
     "traceback": [
      "\u001b[1;31m---------------------------------------------------------------------------\u001b[0m",
      "\u001b[1;31mValueError\u001b[0m                                Traceback (most recent call last)",
      "Cell \u001b[1;32mIn[33], line 1\u001b[0m\n\u001b[1;32m----> 1\u001b[0m df\u001b[38;5;241m.\u001b[39msample(\u001b[38;5;241m5\u001b[39m)\n",
      "File \u001b[1;32m~\\anaconda3\\Lib\\site-packages\\pandas\\core\\generic.py:6029\u001b[0m, in \u001b[0;36mNDFrame.sample\u001b[1;34m(self, n, frac, replace, weights, random_state, axis, ignore_index)\u001b[0m\n\u001b[0;32m   6026\u001b[0m \u001b[38;5;28;01mif\u001b[39;00m weights \u001b[38;5;129;01mis\u001b[39;00m \u001b[38;5;129;01mnot\u001b[39;00m \u001b[38;5;28;01mNone\u001b[39;00m:\n\u001b[0;32m   6027\u001b[0m     weights \u001b[38;5;241m=\u001b[39m sample\u001b[38;5;241m.\u001b[39mpreprocess_weights(\u001b[38;5;28mself\u001b[39m, weights, axis)\n\u001b[1;32m-> 6029\u001b[0m sampled_indices \u001b[38;5;241m=\u001b[39m sample\u001b[38;5;241m.\u001b[39msample(obj_len, size, replace, weights, rs)\n\u001b[0;32m   6030\u001b[0m result \u001b[38;5;241m=\u001b[39m \u001b[38;5;28mself\u001b[39m\u001b[38;5;241m.\u001b[39mtake(sampled_indices, axis\u001b[38;5;241m=\u001b[39maxis)\n\u001b[0;32m   6032\u001b[0m \u001b[38;5;28;01mif\u001b[39;00m ignore_index:\n",
      "File \u001b[1;32m~\\anaconda3\\Lib\\site-packages\\pandas\\core\\sample.py:152\u001b[0m, in \u001b[0;36msample\u001b[1;34m(obj_len, size, replace, weights, random_state)\u001b[0m\n\u001b[0;32m    149\u001b[0m     \u001b[38;5;28;01melse\u001b[39;00m:\n\u001b[0;32m    150\u001b[0m         \u001b[38;5;28;01mraise\u001b[39;00m \u001b[38;5;167;01mValueError\u001b[39;00m(\u001b[38;5;124m\"\u001b[39m\u001b[38;5;124mInvalid weights: weights sum to zero\u001b[39m\u001b[38;5;124m\"\u001b[39m)\n\u001b[1;32m--> 152\u001b[0m \u001b[38;5;28;01mreturn\u001b[39;00m random_state\u001b[38;5;241m.\u001b[39mchoice(obj_len, size\u001b[38;5;241m=\u001b[39msize, replace\u001b[38;5;241m=\u001b[39mreplace, p\u001b[38;5;241m=\u001b[39mweights)\u001b[38;5;241m.\u001b[39mastype(\n\u001b[0;32m    153\u001b[0m     np\u001b[38;5;241m.\u001b[39mintp, copy\u001b[38;5;241m=\u001b[39m\u001b[38;5;28;01mFalse\u001b[39;00m\n\u001b[0;32m    154\u001b[0m )\n",
      "File \u001b[1;32mnumpy\\\\random\\\\mtrand.pyx:945\u001b[0m, in \u001b[0;36mnumpy.random.mtrand.RandomState.choice\u001b[1;34m()\u001b[0m\n",
      "\u001b[1;31mValueError\u001b[0m: a must be greater than 0 unless no samples are taken"
     ]
    }
   ],
   "source": [
    "df.sample(5)"
   ]
  },
  {
   "cell_type": "code",
   "execution_count": null,
   "id": "cd595f38-d2b5-4884-95f8-e971571b9e77",
   "metadata": {},
   "outputs": [],
   "source": []
  }
 ],
 "metadata": {
  "kernelspec": {
   "display_name": "Python 3 (ipykernel)",
   "language": "python",
   "name": "python3"
  },
  "language_info": {
   "codemirror_mode": {
    "name": "ipython",
    "version": 3
   },
   "file_extension": ".py",
   "mimetype": "text/x-python",
   "name": "python",
   "nbconvert_exporter": "python",
   "pygments_lexer": "ipython3",
   "version": "3.11.7"
  }
 },
 "nbformat": 4,
 "nbformat_minor": 5
}
